{
 "cells": [
  {
   "cell_type": "code",
   "execution_count": null,
   "metadata": {},
   "outputs": [],
   "source": [
    "!nvcc --version"
   ]
  },
  {
   "cell_type": "code",
   "execution_count": null,
   "metadata": {},
   "outputs": [],
   "source": [
    "!nvidia-smi"
   ]
  },
  {
   "cell_type": "code",
   "execution_count": null,
   "metadata": {},
   "outputs": [],
   "source": [
    "import tensorflow as tf\n",
    "# 查看 tensorflow 版本\n",
    "print(tf.__version__)\n",
    "# 判断是否使用 GPU 构建\n",
    "print(tf.test.is_built_with_cuda())\n",
    "# 查看GPU列表\n",
    "print(tf.config.list_physical_devices('GPU'))\n",
    "# 查看驱动名称\n",
    "if tf.test.gpu_device_name():\n",
    "    print('Default GPU Device: {}'.format(tf.test.gpu_device_name()))\n",
    "else:\n",
    "    print(\"Please install GPU version of TF\")\n"
   ]
  },
  {
   "cell_type": "code",
   "execution_count": null,
   "metadata": {},
   "outputs": [],
   "source": [
    "# 查询 opencv 版本\n",
    "import cv2\n",
    "cv2.__version__"
   ]
  }
 ],
 "metadata": {
  "interpreter": {
   "hash": "ef2155340b09b702d8bbfe2ba02e20a76127ac41a5c408dc86a4fbf440e4dc9b"
  },
  "kernelspec": {
   "display_name": "Python 3.8.13 ('tensorflow-38')",
   "language": "python",
   "name": "python3"
  },
  "language_info": {
   "codemirror_mode": {
    "name": "ipython",
    "version": 3
   },
   "file_extension": ".py",
   "mimetype": "text/x-python",
   "name": "python",
   "nbconvert_exporter": "python",
   "pygments_lexer": "ipython3",
   "version": "3.8.13"
  },
  "orig_nbformat": 4
 },
 "nbformat": 4,
 "nbformat_minor": 2
}
