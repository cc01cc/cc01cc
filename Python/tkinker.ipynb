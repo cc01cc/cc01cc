{
 "cells": [
  {
   "cell_type": "markdown",
   "metadata": {},
   "source": [
    "实现 读取文件文件夹位置 GUI"
   ]
  },
  {
   "cell_type": "code",
   "execution_count": null,
   "metadata": {},
   "outputs": [],
   "source": [
    "import tkinter as tk\n",
    "import ctypes\n",
    "from tkinter import filedialog\n",
    "\n",
    "# 将 dpi 的控制权转交给程序（需要 win8.1 以上）\n",
    "ctypes.windll.shcore.SetProcessDpiAwareness(1)\n",
    "\n",
    "\n",
    "root = tk.Tk()\n",
    "root.withdraw()\n",
    "\n",
    "# file_path = filedialog.askopenfilename(title=\"请选择文件\")\n",
    "# print(file_path)\n",
    "dir_path = filedialog.askdirectory(title=\"请选择文件夹\")\n",
    "print(dir_path)"
   ]
  }
 ],
 "metadata": {
  "language_info": {
   "name": "python"
  },
  "orig_nbformat": 4
 },
 "nbformat": 4,
 "nbformat_minor": 2
}
